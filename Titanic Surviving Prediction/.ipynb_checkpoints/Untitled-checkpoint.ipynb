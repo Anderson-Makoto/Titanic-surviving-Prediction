{
 "cells": [
  {
   "cell_type": "markdown",
   "id": "55b3b32d",
   "metadata": {},
   "source": [
    "# Titanic Surviving Prediction\n",
    "This project uses the Titanic Kaggle's dataset, with information of different people aboard the ship, and the surviving status as target. The goal is to determine if a different person would or not survive the wreck."
   ]
  },
  {
   "cell_type": "markdown",
   "id": "80f04053",
   "metadata": {},
   "source": [
    "## Import Dependencies"
   ]
  },
  {
   "cell_type": "code",
   "execution_count": 67,
   "id": "24404188",
   "metadata": {},
   "outputs": [],
   "source": [
    "import pandas as pd\n",
    "import seaborn as sns\n",
    "from matplotlib import pyplot as plt\n",
    "import numpy as np\n",
    "from random import randint\n",
    "\n",
    "from sklearn import preprocessing\n",
    "from sklearn.decomposition import PCA\n",
    "\n",
    "from sklearn.neural_network import MLPClassifier\n",
    "from sklearn.ensemble import GradientBoostingClassifier, RandomForestClassifier, StackingClassifier\n",
    "from sklearn.impute import SimpleImputer\n",
    "from sklearn.cluster import KMeans\n",
    "\n",
    "from sklearn.model_selection import cross_val_score\n",
    "from sklearn.metrics import classification_report, accuracy_score, make_scorer"
   ]
  },
  {
   "cell_type": "markdown",
   "id": "2f339d88",
   "metadata": {},
   "source": [
    "## Load Dataset\n",
    "Open dataset as Pandas dataframe"
   ]
  },
  {
   "cell_type": "code",
   "execution_count": 68,
   "id": "645e76b1",
   "metadata": {},
   "outputs": [
    {
     "data": {
      "text/plain": [
       "(     PassengerId  Survived  Pclass  \\\n",
       " 0              1         0       3   \n",
       " 1              2         1       1   \n",
       " 2              3         1       3   \n",
       " 3              4         1       1   \n",
       " 4              5         0       3   \n",
       " ..           ...       ...     ...   \n",
       " 886          887         0       2   \n",
       " 887          888         1       1   \n",
       " 888          889         0       3   \n",
       " 889          890         1       1   \n",
       " 890          891         0       3   \n",
       " \n",
       "                                                   Name     Sex   Age  SibSp  \\\n",
       " 0                              Braund, Mr. Owen Harris    male  22.0      1   \n",
       " 1    Cumings, Mrs. John Bradley (Florence Briggs Th...  female  38.0      1   \n",
       " 2                               Heikkinen, Miss. Laina  female  26.0      0   \n",
       " 3         Futrelle, Mrs. Jacques Heath (Lily May Peel)  female  35.0      1   \n",
       " 4                             Allen, Mr. William Henry    male  35.0      0   \n",
       " ..                                                 ...     ...   ...    ...   \n",
       " 886                              Montvila, Rev. Juozas    male  27.0      0   \n",
       " 887                       Graham, Miss. Margaret Edith  female  19.0      0   \n",
       " 888           Johnston, Miss. Catherine Helen \"Carrie\"  female   NaN      1   \n",
       " 889                              Behr, Mr. Karl Howell    male  26.0      0   \n",
       " 890                                Dooley, Mr. Patrick    male  32.0      0   \n",
       " \n",
       "      Parch            Ticket     Fare Cabin Embarked  \n",
       " 0        0         A/5 21171   7.2500   NaN        S  \n",
       " 1        0          PC 17599  71.2833   C85        C  \n",
       " 2        0  STON/O2. 3101282   7.9250   NaN        S  \n",
       " 3        0            113803  53.1000  C123        S  \n",
       " 4        0            373450   8.0500   NaN        S  \n",
       " ..     ...               ...      ...   ...      ...  \n",
       " 886      0            211536  13.0000   NaN        S  \n",
       " 887      0            112053  30.0000   B42        S  \n",
       " 888      2        W./C. 6607  23.4500   NaN        S  \n",
       " 889      0            111369  30.0000  C148        C  \n",
       " 890      0            370376   7.7500   NaN        Q  \n",
       " \n",
       " [891 rows x 12 columns],\n",
       " Index(['PassengerId', 'Survived', 'Pclass', 'Name', 'Sex', 'Age', 'SibSp',\n",
       "        'Parch', 'Ticket', 'Fare', 'Cabin', 'Embarked'],\n",
       "       dtype='object'))"
      ]
     },
     "execution_count": 68,
     "metadata": {},
     "output_type": "execute_result"
    }
   ],
   "source": [
    "dataset = pd.read_csv(\"./train.csv\")\n",
    "dataset, dataset.columns"
   ]
  },
  {
   "cell_type": "markdown",
   "id": "48e3aabc",
   "metadata": {},
   "source": [
    "## Drop Useless Columns\n",
    "Columns with high quantity of null values will be dropped."
   ]
  },
  {
   "cell_type": "code",
   "execution_count": 69,
   "id": "65204e76",
   "metadata": {},
   "outputs": [
    {
     "name": "stdout",
     "output_type": "stream",
     "text": [
      "<class 'pandas.core.frame.DataFrame'>\n",
      "RangeIndex: 891 entries, 0 to 890\n",
      "Data columns (total 12 columns):\n",
      " #   Column       Non-Null Count  Dtype  \n",
      "---  ------       --------------  -----  \n",
      " 0   PassengerId  891 non-null    int64  \n",
      " 1   Survived     891 non-null    int64  \n",
      " 2   Pclass       891 non-null    int64  \n",
      " 3   Name         891 non-null    object \n",
      " 4   Sex          891 non-null    object \n",
      " 5   Age          714 non-null    float64\n",
      " 6   SibSp        891 non-null    int64  \n",
      " 7   Parch        891 non-null    int64  \n",
      " 8   Ticket       891 non-null    object \n",
      " 9   Fare         891 non-null    float64\n",
      " 10  Cabin        204 non-null    object \n",
      " 11  Embarked     889 non-null    object \n",
      "dtypes: float64(2), int64(5), object(5)\n",
      "memory usage: 83.7+ KB\n",
      "None\n",
      "<class 'pandas.core.frame.DataFrame'>\n",
      "RangeIndex: 891 entries, 0 to 890\n",
      "Data columns (total 11 columns):\n",
      " #   Column       Non-Null Count  Dtype  \n",
      "---  ------       --------------  -----  \n",
      " 0   PassengerId  891 non-null    int64  \n",
      " 1   Survived     891 non-null    int64  \n",
      " 2   Pclass       891 non-null    int64  \n",
      " 3   Name         891 non-null    object \n",
      " 4   Sex          891 non-null    object \n",
      " 5   Age          714 non-null    float64\n",
      " 6   SibSp        891 non-null    int64  \n",
      " 7   Parch        891 non-null    int64  \n",
      " 8   Ticket       891 non-null    object \n",
      " 9   Fare         891 non-null    float64\n",
      " 10  Embarked     889 non-null    object \n",
      "dtypes: float64(2), int64(5), object(4)\n",
      "memory usage: 76.7+ KB\n"
     ]
    }
   ],
   "source": [
    "# Dropping columns with high null number\n",
    "print(dataset.info())\n",
    "\n",
    "# In this case, Cabin has a considerable number of null values, so we`ll not use that column\n",
    "dataset = dataset.drop([\"Cabin\"], axis = 1)\n",
    "dataset.info()\n",
    "\n",
    "# In the case os Age, we can input values\n",
    "\n",
    "dataset[\"Age\"] = dataset[\"Age\"].fillna(dataset[\"Age\"].mean())"
   ]
  },
  {
   "cell_type": "markdown",
   "id": "62663645",
   "metadata": {},
   "source": [
    "## Managing Categorical Values\n",
    "Convert categorical values into numerical ones."
   ]
  },
  {
   "cell_type": "code",
   "execution_count": 70,
   "id": "ac819c44",
   "metadata": {},
   "outputs": [
    {
     "name": "stdout",
     "output_type": "stream",
     "text": [
      "['Name', 'Sex', 'Ticket', 'Embarked']\n"
     ]
    },
    {
     "data": {
      "text/plain": [
       "(     PassengerId  Survived  Pclass  Name        Age  SibSp  Parch  Ticket  \\\n",
       " 0              1         0       3   108  22.000000      1      0     523   \n",
       " 1              2         1       1   190  38.000000      1      0     596   \n",
       " 2              3         1       3   353  26.000000      0      0     669   \n",
       " 3              4         1       1   272  35.000000      1      0      49   \n",
       " 4              5         0       3    15  35.000000      0      0     472   \n",
       " ..           ...       ...     ...   ...        ...    ...    ...     ...   \n",
       " 886          887         0       2   548  27.000000      0      0     101   \n",
       " 887          888         1       1   303  19.000000      0      0      14   \n",
       " 888          889         0       3   413  29.699118      1      2     675   \n",
       " 889          890         1       1    81  26.000000      0      0       8   \n",
       " 890          891         0       3   220  32.000000      0      0     466   \n",
       " \n",
       "         Fare  Sex_female  Sex_male  Embarked_C  Embarked_Q  Embarked_S  \n",
       " 0     7.2500           0         1           0           0           1  \n",
       " 1    71.2833           1         0           1           0           0  \n",
       " 2     7.9250           1         0           0           0           1  \n",
       " 3    53.1000           1         0           0           0           1  \n",
       " 4     8.0500           0         1           0           0           1  \n",
       " ..       ...         ...       ...         ...         ...         ...  \n",
       " 886  13.0000           0         1           0           0           1  \n",
       " 887  30.0000           1         0           0           0           1  \n",
       " 888  23.4500           1         0           0           0           1  \n",
       " 889  30.0000           0         1           1           0           0  \n",
       " 890   7.7500           0         1           0           1           0  \n",
       " \n",
       " [891 rows x 14 columns],\n",
       " Index(['PassengerId', 'Survived', 'Pclass', 'Name', 'Age', 'SibSp', 'Parch',\n",
       "        'Ticket', 'Fare', 'Sex_female', 'Sex_male', 'Embarked_C', 'Embarked_Q',\n",
       "        'Embarked_S'],\n",
       "       dtype='object'))"
      ]
     },
     "execution_count": 70,
     "metadata": {},
     "output_type": "execute_result"
    }
   ],
   "source": [
    "cat_col = [col for col in dataset.columns if dataset[col].dtype == \"object\"]\n",
    "print(cat_col)\n",
    "\n",
    "le_cat = [\"Name\", \"Ticket\"]\n",
    "one_hot_cat = [\"Sex\", \"Embarked\"]\n",
    "\n",
    "# For Name and Ticket, apply labelencoder, and for the restm one-hot-encoding\n",
    "\n",
    "le = preprocessing.LabelEncoder()\n",
    "for col in le_cat:\n",
    "    dataset[col] = le.fit_transform(dataset[col])\n",
    "    \n",
    "encoded_columns = pd.get_dummies(dataset[one_hot_cat])\n",
    "dataset = dataset.drop(one_hot_cat, axis = 1)\n",
    "dataset = pd.concat([dataset, encoded_columns], axis = 1)\n",
    "\n",
    "dataset, dataset.columns"
   ]
  },
  {
   "cell_type": "markdown",
   "id": "cb062ac6",
   "metadata": {},
   "source": [
    "## Dataset Normalization"
   ]
  },
  {
   "cell_type": "code",
   "execution_count": 71,
   "id": "d01a7137",
   "metadata": {},
   "outputs": [
    {
     "name": "stdout",
     "output_type": "stream",
     "text": [
      "PassengerId    891.0000\n",
      "Survived         1.0000\n",
      "Pclass           3.0000\n",
      "Name           890.0000\n",
      "Age             80.0000\n",
      "SibSp            8.0000\n",
      "Parch            6.0000\n",
      "Ticket         680.0000\n",
      "Fare           512.3292\n",
      "Sex_female       1.0000\n",
      "Sex_male         1.0000\n",
      "Embarked_C       1.0000\n",
      "Embarked_Q       1.0000\n",
      "Embarked_S       1.0000\n",
      "dtype: float64\n"
     ]
    },
    {
     "data": {
      "text/html": [
       "<div>\n",
       "<style scoped>\n",
       "    .dataframe tbody tr th:only-of-type {\n",
       "        vertical-align: middle;\n",
       "    }\n",
       "\n",
       "    .dataframe tbody tr th {\n",
       "        vertical-align: top;\n",
       "    }\n",
       "\n",
       "    .dataframe thead th {\n",
       "        text-align: right;\n",
       "    }\n",
       "</style>\n",
       "<table border=\"1\" class=\"dataframe\">\n",
       "  <thead>\n",
       "    <tr style=\"text-align: right;\">\n",
       "      <th></th>\n",
       "      <th>PassengerId</th>\n",
       "      <th>Survived</th>\n",
       "      <th>Pclass</th>\n",
       "      <th>Name</th>\n",
       "      <th>Age</th>\n",
       "      <th>SibSp</th>\n",
       "      <th>Parch</th>\n",
       "      <th>Ticket</th>\n",
       "      <th>Fare</th>\n",
       "      <th>Sex_female</th>\n",
       "      <th>Sex_male</th>\n",
       "      <th>Embarked_C</th>\n",
       "      <th>Embarked_Q</th>\n",
       "      <th>Embarked_S</th>\n",
       "    </tr>\n",
       "  </thead>\n",
       "  <tbody>\n",
       "    <tr>\n",
       "      <th>0</th>\n",
       "      <td>0.000000</td>\n",
       "      <td>0.0</td>\n",
       "      <td>1.0</td>\n",
       "      <td>0.121348</td>\n",
       "      <td>0.271174</td>\n",
       "      <td>0.125</td>\n",
       "      <td>0.000000</td>\n",
       "      <td>0.769118</td>\n",
       "      <td>0.014151</td>\n",
       "      <td>0.0</td>\n",
       "      <td>1.0</td>\n",
       "      <td>0.0</td>\n",
       "      <td>0.0</td>\n",
       "      <td>1.0</td>\n",
       "    </tr>\n",
       "    <tr>\n",
       "      <th>1</th>\n",
       "      <td>0.001124</td>\n",
       "      <td>1.0</td>\n",
       "      <td>0.0</td>\n",
       "      <td>0.213483</td>\n",
       "      <td>0.472229</td>\n",
       "      <td>0.125</td>\n",
       "      <td>0.000000</td>\n",
       "      <td>0.876471</td>\n",
       "      <td>0.139136</td>\n",
       "      <td>1.0</td>\n",
       "      <td>0.0</td>\n",
       "      <td>1.0</td>\n",
       "      <td>0.0</td>\n",
       "      <td>0.0</td>\n",
       "    </tr>\n",
       "    <tr>\n",
       "      <th>2</th>\n",
       "      <td>0.002247</td>\n",
       "      <td>1.0</td>\n",
       "      <td>1.0</td>\n",
       "      <td>0.396629</td>\n",
       "      <td>0.321438</td>\n",
       "      <td>0.000</td>\n",
       "      <td>0.000000</td>\n",
       "      <td>0.983824</td>\n",
       "      <td>0.015469</td>\n",
       "      <td>1.0</td>\n",
       "      <td>0.0</td>\n",
       "      <td>0.0</td>\n",
       "      <td>0.0</td>\n",
       "      <td>1.0</td>\n",
       "    </tr>\n",
       "    <tr>\n",
       "      <th>3</th>\n",
       "      <td>0.003371</td>\n",
       "      <td>1.0</td>\n",
       "      <td>0.0</td>\n",
       "      <td>0.305618</td>\n",
       "      <td>0.434531</td>\n",
       "      <td>0.125</td>\n",
       "      <td>0.000000</td>\n",
       "      <td>0.072059</td>\n",
       "      <td>0.103644</td>\n",
       "      <td>1.0</td>\n",
       "      <td>0.0</td>\n",
       "      <td>0.0</td>\n",
       "      <td>0.0</td>\n",
       "      <td>1.0</td>\n",
       "    </tr>\n",
       "    <tr>\n",
       "      <th>4</th>\n",
       "      <td>0.004494</td>\n",
       "      <td>0.0</td>\n",
       "      <td>1.0</td>\n",
       "      <td>0.016854</td>\n",
       "      <td>0.434531</td>\n",
       "      <td>0.000</td>\n",
       "      <td>0.000000</td>\n",
       "      <td>0.694118</td>\n",
       "      <td>0.015713</td>\n",
       "      <td>0.0</td>\n",
       "      <td>1.0</td>\n",
       "      <td>0.0</td>\n",
       "      <td>0.0</td>\n",
       "      <td>1.0</td>\n",
       "    </tr>\n",
       "    <tr>\n",
       "      <th>5</th>\n",
       "      <td>0.005618</td>\n",
       "      <td>0.0</td>\n",
       "      <td>1.0</td>\n",
       "      <td>0.622472</td>\n",
       "      <td>0.367921</td>\n",
       "      <td>0.000</td>\n",
       "      <td>0.000000</td>\n",
       "      <td>0.404412</td>\n",
       "      <td>0.016510</td>\n",
       "      <td>0.0</td>\n",
       "      <td>1.0</td>\n",
       "      <td>0.0</td>\n",
       "      <td>1.0</td>\n",
       "      <td>0.0</td>\n",
       "    </tr>\n",
       "    <tr>\n",
       "      <th>6</th>\n",
       "      <td>0.006742</td>\n",
       "      <td>0.0</td>\n",
       "      <td>0.0</td>\n",
       "      <td>0.578652</td>\n",
       "      <td>0.673285</td>\n",
       "      <td>0.000</td>\n",
       "      <td>0.000000</td>\n",
       "      <td>0.125000</td>\n",
       "      <td>0.101229</td>\n",
       "      <td>0.0</td>\n",
       "      <td>1.0</td>\n",
       "      <td>0.0</td>\n",
       "      <td>0.0</td>\n",
       "      <td>1.0</td>\n",
       "    </tr>\n",
       "    <tr>\n",
       "      <th>7</th>\n",
       "      <td>0.007865</td>\n",
       "      <td>0.0</td>\n",
       "      <td>1.0</td>\n",
       "      <td>0.701124</td>\n",
       "      <td>0.019854</td>\n",
       "      <td>0.375</td>\n",
       "      <td>0.166667</td>\n",
       "      <td>0.580882</td>\n",
       "      <td>0.041136</td>\n",
       "      <td>0.0</td>\n",
       "      <td>1.0</td>\n",
       "      <td>0.0</td>\n",
       "      <td>0.0</td>\n",
       "      <td>1.0</td>\n",
       "    </tr>\n",
       "    <tr>\n",
       "      <th>8</th>\n",
       "      <td>0.008989</td>\n",
       "      <td>1.0</td>\n",
       "      <td>1.0</td>\n",
       "      <td>0.462921</td>\n",
       "      <td>0.334004</td>\n",
       "      <td>0.000</td>\n",
       "      <td>0.333333</td>\n",
       "      <td>0.505882</td>\n",
       "      <td>0.021731</td>\n",
       "      <td>1.0</td>\n",
       "      <td>0.0</td>\n",
       "      <td>0.0</td>\n",
       "      <td>0.0</td>\n",
       "      <td>1.0</td>\n",
       "    </tr>\n",
       "    <tr>\n",
       "      <th>9</th>\n",
       "      <td>0.010112</td>\n",
       "      <td>1.0</td>\n",
       "      <td>0.5</td>\n",
       "      <td>0.647191</td>\n",
       "      <td>0.170646</td>\n",
       "      <td>0.125</td>\n",
       "      <td>0.000000</td>\n",
       "      <td>0.194118</td>\n",
       "      <td>0.058694</td>\n",
       "      <td>1.0</td>\n",
       "      <td>0.0</td>\n",
       "      <td>1.0</td>\n",
       "      <td>0.0</td>\n",
       "      <td>0.0</td>\n",
       "    </tr>\n",
       "  </tbody>\n",
       "</table>\n",
       "</div>"
      ],
      "text/plain": [
       "   PassengerId  Survived  Pclass      Name       Age  SibSp     Parch  \\\n",
       "0     0.000000       0.0     1.0  0.121348  0.271174  0.125  0.000000   \n",
       "1     0.001124       1.0     0.0  0.213483  0.472229  0.125  0.000000   \n",
       "2     0.002247       1.0     1.0  0.396629  0.321438  0.000  0.000000   \n",
       "3     0.003371       1.0     0.0  0.305618  0.434531  0.125  0.000000   \n",
       "4     0.004494       0.0     1.0  0.016854  0.434531  0.000  0.000000   \n",
       "5     0.005618       0.0     1.0  0.622472  0.367921  0.000  0.000000   \n",
       "6     0.006742       0.0     0.0  0.578652  0.673285  0.000  0.000000   \n",
       "7     0.007865       0.0     1.0  0.701124  0.019854  0.375  0.166667   \n",
       "8     0.008989       1.0     1.0  0.462921  0.334004  0.000  0.333333   \n",
       "9     0.010112       1.0     0.5  0.647191  0.170646  0.125  0.000000   \n",
       "\n",
       "     Ticket      Fare  Sex_female  Sex_male  Embarked_C  Embarked_Q  \\\n",
       "0  0.769118  0.014151         0.0       1.0         0.0         0.0   \n",
       "1  0.876471  0.139136         1.0       0.0         1.0         0.0   \n",
       "2  0.983824  0.015469         1.0       0.0         0.0         0.0   \n",
       "3  0.072059  0.103644         1.0       0.0         0.0         0.0   \n",
       "4  0.694118  0.015713         0.0       1.0         0.0         0.0   \n",
       "5  0.404412  0.016510         0.0       1.0         0.0         1.0   \n",
       "6  0.125000  0.101229         0.0       1.0         0.0         0.0   \n",
       "7  0.580882  0.041136         0.0       1.0         0.0         0.0   \n",
       "8  0.505882  0.021731         1.0       0.0         0.0         0.0   \n",
       "9  0.194118  0.058694         1.0       0.0         1.0         0.0   \n",
       "\n",
       "   Embarked_S  \n",
       "0         1.0  \n",
       "1         0.0  \n",
       "2         1.0  \n",
       "3         1.0  \n",
       "4         1.0  \n",
       "5         0.0  \n",
       "6         1.0  \n",
       "7         1.0  \n",
       "8         1.0  \n",
       "9         0.0  "
      ]
     },
     "execution_count": 71,
     "metadata": {},
     "output_type": "execute_result"
    }
   ],
   "source": [
    "# dataset with a large difference between range of values of each feature\n",
    "print(dataset.max())\n",
    "\n",
    "normalizer = preprocessing.MinMaxScaler()\n",
    "x = dataset.values\n",
    "x_scaled = normalizer.fit_transform(x)\n",
    "dataset = pd.DataFrame(x_scaled, columns = dataset.columns)\n",
    "dataset.head(10)"
   ]
  },
  {
   "cell_type": "markdown",
   "id": "b1361921",
   "metadata": {},
   "source": [
    "## Verifying Correlation\n",
    "In this step, we'll be comparing the correlation of all features to the target."
   ]
  },
  {
   "cell_type": "code",
   "execution_count": 72,
   "id": "99e3c1f3",
   "metadata": {},
   "outputs": [
    {
     "name": "stdout",
     "output_type": "stream",
     "text": [
      "Survived       1.000000\n",
      "Sex_female     0.543351\n",
      "Fare           0.257307\n",
      "Embarked_C     0.168240\n",
      "Parch          0.081629\n",
      "Embarked_Q     0.003650\n",
      "PassengerId   -0.005007\n",
      "SibSp         -0.035322\n",
      "Name          -0.057343\n",
      "Age           -0.069809\n",
      "Embarked_S    -0.155660\n",
      "Ticket        -0.164549\n",
      "Pclass        -0.338481\n",
      "Sex_male      -0.543351\n",
      "Name: Survived, dtype: float64\n"
     ]
    },
    {
     "data": {
      "text/plain": [
       "Index(['Survived', 'Pclass', 'Name', 'Age', 'Parch', 'Ticket', 'Fare',\n",
       "       'Sex_female', 'Sex_male', 'Embarked_C', 'Embarked_Q', 'Embarked_S'],\n",
       "      dtype='object')"
      ]
     },
     "execution_count": 72,
     "metadata": {},
     "output_type": "execute_result"
    }
   ],
   "source": [
    "correlation = dataset.corr()\n",
    "correlation.sort_values([\"Survived\"], ascending = False, inplace = True)\n",
    "\n",
    "print(correlation[\"Survived\"])\n",
    "\n",
    "# PassengerId and SibSp are the columns with less correlation with the target\n",
    "dataset = dataset.drop([\"PassengerId\", \"SibSp\"], axis = 1)\n",
    "\n",
    "dataset.columns"
   ]
  },
  {
   "cell_type": "markdown",
   "id": "c1eaf94a",
   "metadata": {},
   "source": [
    "## Skewness and Kurtosis\n",
    "Verification of assymetry and tail of the columns distributions, as well as normalize the data."
   ]
  },
  {
   "cell_type": "code",
   "execution_count": 73,
   "id": "1d8f7661",
   "metadata": {},
   "outputs": [
    {
     "name": "stdout",
     "output_type": "stream",
     "text": [
      "            count      mean       std  min       25%       50%       75%  max  \\\n",
      "Survived    891.0  0.383838  0.486592  0.0  0.000000  0.000000  1.000000  1.0   \n",
      "Pclass      891.0  0.654321  0.418036  0.0  0.500000  1.000000  1.000000  1.0   \n",
      "Name        891.0  0.500000  0.289162  0.0  0.250000  0.500000  0.750000  1.0   \n",
      "Age         891.0  0.367921  0.163383  0.0  0.271174  0.367921  0.434531  1.0   \n",
      "Parch       891.0  0.063599  0.134343  0.0  0.000000  0.000000  0.000000  1.0   \n",
      "Ticket      891.0  0.497836  0.295369  0.0  0.233088  0.495588  0.763971  1.0   \n",
      "Fare        891.0  0.062858  0.096995  0.0  0.015440  0.028213  0.060508  1.0   \n",
      "Sex_female  891.0  0.352413  0.477990  0.0  0.000000  0.000000  1.000000  1.0   \n",
      "Sex_male    891.0  0.647587  0.477990  0.0  0.000000  1.000000  1.000000  1.0   \n",
      "Embarked_C  891.0  0.188552  0.391372  0.0  0.000000  0.000000  0.000000  1.0   \n",
      "Embarked_Q  891.0  0.086420  0.281141  0.0  0.000000  0.000000  0.000000  1.0   \n",
      "Embarked_S  891.0  0.722783  0.447876  0.0  0.000000  1.000000  1.000000  1.0   \n",
      "\n",
      "            skewness   kurtosis       var  \n",
      "Survived    0.478523  -1.775005  0.236772  \n",
      "Pclass     -0.630548  -1.280015  0.174754  \n",
      "Name        0.000000  -1.200000  0.083614  \n",
      "Age         0.434488   0.966279  0.026694  \n",
      "Parch       2.749117   9.778125  0.018048  \n",
      "Ticket      0.000246  -1.278216  0.087243  \n",
      "Fare        4.787317  33.398141  0.009408  \n",
      "Sex_female  0.618921  -1.620580  0.228475  \n",
      "Sex_male   -0.618921  -1.620580  0.228475  \n",
      "Embarked_C  1.595149   0.545721  0.153172  \n",
      "Embarked_Q  2.948778   6.710347  0.079040  \n",
      "Embarked_S -0.997083  -1.008094  0.200593  \n"
     ]
    },
    {
     "data": {
      "text/plain": [
       "Text(0, 0.5, 'Count')"
      ]
     },
     "execution_count": 73,
     "metadata": {},
     "output_type": "execute_result"
    },
    {
     "data": {
      "image/png": "[encoded data removed]",
      "text/plain": [
       "<Figure size 1440x720 with 4 Axes>"
      ]
     },
     "metadata": {
      "needs_background": "light"
     },
     "output_type": "display_data"
    }
   ],
   "source": [
    "info_df = pd.DataFrame(dataset.describe().T)\n",
    "info_df[\"skewness\"] = dataset.skew()\n",
    "info_df[\"kurtosis\"] = dataset.kurt()\n",
    "info_df[\"var\"] = dataset.var()\n",
    "\n",
    "# We can see that Fare and Parch have a relatively high skewness\n",
    "print(info_df)\n",
    "\n",
    "fig, axes = plt.subplots(2, 2, figsize=(20, 10))\n",
    "fig.suptitle(\"Skewness\")\n",
    "\n",
    "sns.histplot(ax = axes[0, 0], data = dataset, x = \"Fare\", kde = True)\n",
    "axes[0, 0].legend([dataset[\"Fare\"].skew(), dataset[\"Fare\"].kurt()], title = \"Skewness and kurtosis\")\n",
    "axes[0, 0].set_title(\"Fare Skewness (before)\")\n",
    "axes[0, 0].set_xlabel(\"Fare\")\n",
    "axes[0, 0].set_ylabel(\"Count\")\n",
    "\n",
    "sns.histplot(ax = axes[0, 1], data = dataset, x = \"Parch\", kde = True)\n",
    "axes[0, 1].legend([dataset[\"Parch\"].skew(), dataset[\"Parch\"].kurt()], title = \"Skewness and kurtosis\")\n",
    "axes[0, 1].set_title(\"Parch Skewness (before)\")\n",
    "axes[0, 1].set_xlabel(\"Parch\")\n",
    "axes[0, 1].set_ylabel(\"Count\")\n",
    "\n",
    "dataset[\"Fare\"] = np.sqrt(dataset[\"Fare\"])\n",
    "dataset[\"Parch\"] = np.sqrt(dataset[\"Parch\"])\n",
    "\n",
    "sns.histplot(ax = axes[1, 0], data = dataset, x = \"Fare\", kde = True)\n",
    "axes[1, 0].legend([dataset[\"Fare\"].skew(), dataset[\"Fare\"].kurt()], title = \"Skewness and kurtosis\")\n",
    "axes[1, 0].set_title(\"Fare Skewness (after)\")\n",
    "axes[1, 0].set_xlabel(\"Fare\")\n",
    "axes[1, 0].set_ylabel(\"Count\")\n",
    "\n",
    "sns.histplot(ax = axes[1, 1], data = dataset, x = \"Parch\", kde = True)\n",
    "axes[1, 1].legend([dataset[\"Parch\"].skew(), dataset[\"Parch\"].kurt()], title = \"Skewness and kurtosis\")\n",
    "axes[1, 1].set_title(\"Parch Skewness (after)\")\n",
    "axes[1, 1].set_xlabel(\"Parch\")\n",
    "axes[1, 1].set_ylabel(\"Count\")"
   ]
  },
  {
   "cell_type": "markdown",
   "id": "3a6b3a45",
   "metadata": {},
   "source": [
    "## Feature Creation\n",
    "Increase number of features with PCA"
   ]
  },
  {
   "cell_type": "code",
   "execution_count": 74,
   "id": "facd787a",
   "metadata": {},
   "outputs": [],
   "source": [
    "# pca = PCA()\n",
    "# X_pca = pca.fit_transform(dataset.drop([\"Survived\"], axis = 1))\n",
    "# component_names = [f\"PC{i+1}\" for i in range(X_pca.shape[1])]\n",
    "# X_pca = pd.DataFrame(X_pca, columns=component_names)\n",
    "\n",
    "# dataset[[\"PC1\", \"PC2\"]] = X_pca[[\"PC1\", \"PC2\"]]\n",
    "\n",
    "# kmeans = KMeans(n_clusters=4)\n",
    "# dataset[\"cluster\"] = kmeans.fit_predict(dataset.drop([\"Survived\"], axis = 1))\n",
    "# dataset[\"cluster\"] = dataset[\"cluster\"].astype(\"category\")\n",
    "\n",
    "# dataset"
   ]
  },
  {
   "cell_type": "markdown",
   "id": "5437fe17",
   "metadata": {},
   "source": [
    "## Verifying Target Balance"
   ]
  },
  {
   "cell_type": "markdown",
   "id": "00e17b8b",
   "metadata": {},
   "source": []
  },
  {
   "cell_type": "code",
   "execution_count": 75,
   "id": "b786ecf4",
   "metadata": {},
   "outputs": [
    {
     "ename": "TypeError",
     "evalue": "any() takes exactly one argument (0 given)",
     "output_type": "error",
     "traceback": [
      "\u001b[1;31m---------------------------------------------------------------------------\u001b[0m",
      "\u001b[1;31mTypeError\u001b[0m                                 Traceback (most recent call last)",
      "\u001b[1;32m<ipython-input-75-9cb778a97118>\u001b[0m in \u001b[0;36m<module>\u001b[1;34m\u001b[0m\n\u001b[0;32m      3\u001b[0m \u001b[0mplt\u001b[0m\u001b[1;33m.\u001b[0m\u001b[0mylabel\u001b[0m\u001b[1;33m(\u001b[0m\u001b[1;34m\"Counts\"\u001b[0m\u001b[1;33m)\u001b[0m\u001b[1;33m\u001b[0m\u001b[1;33m\u001b[0m\u001b[0m\n\u001b[0;32m      4\u001b[0m \u001b[0msns\u001b[0m\u001b[1;33m.\u001b[0m\u001b[0mhistplot\u001b[0m\u001b[1;33m(\u001b[0m\u001b[0mdata\u001b[0m \u001b[1;33m=\u001b[0m \u001b[0mdataset\u001b[0m\u001b[1;33m,\u001b[0m \u001b[0mx\u001b[0m \u001b[1;33m=\u001b[0m \u001b[1;34m\"Survived\"\u001b[0m\u001b[1;33m)\u001b[0m\u001b[1;33m\u001b[0m\u001b[1;33m\u001b[0m\u001b[0m\n\u001b[1;32m----> 5\u001b[1;33m \u001b[0mdataset\u001b[0m\u001b[1;33m.\u001b[0m\u001b[0mloc\u001b[0m\u001b[1;33m[\u001b[0m\u001b[1;33m:\u001b[0m\u001b[1;33m,\u001b[0m \u001b[1;34m\"Survived\"\u001b[0m\u001b[1;33m,\u001b[0m \u001b[0many\u001b[0m\u001b[1;33m(\u001b[0m\u001b[1;33m)\u001b[0m \u001b[1;33m==\u001b[0m \u001b[1;36m1\u001b[0m\u001b[1;33m]\u001b[0m\u001b[1;33m\u001b[0m\u001b[1;33m\u001b[0m\u001b[0m\n\u001b[0m",
      "\u001b[1;31mTypeError\u001b[0m: any() takes exactly one argument (0 given)"
     ]
    },
    {
     "data": {
      "image/png": "[encoded data removed]",
      "text/plain": [
       "<Figure size 432x288 with 1 Axes>"
      ]
     },
     "metadata": {
      "needs_background": "light"
     },
     "output_type": "display_data"
    }
   ],
   "source": [
    "plt.title(\"Target Balance\")\n",
    "plt.xlabel(\"Targets\")\n",
    "plt.ylabel(\"Counts\")\n",
    "sns.histplot(data = dataset, x = \"Survived\")\n",
    "dataset.loc[:, \"Survived\",]"
   ]
  },
  {
   "cell_type": "markdown",
   "id": "be9e3fe5",
   "metadata": {},
   "source": [
    "## Classification"
   ]
  },
  {
   "cell_type": "code",
   "execution_count": null,
   "id": "d0a2cfbb",
   "metadata": {},
   "outputs": [],
   "source": [
    "gbc = GradientBoostingClassifier()\n",
    "\n",
    "x = dataset.drop([\"Survived\"], axis = 1)\n",
    "y = dataset[\"Survived\"]\n",
    "\n",
    "# creating customized scores\n",
    "def custom_score (y_true, y_pred) :\n",
    "    print (classification_report(y_true, y_pred))\n",
    "    return accuracy_score(y_true, y_pred)\n",
    "\n",
    "res = cross_val_score(gbc, x, y, cv = 5, scoring = make_scorer(custom_score))\n",
    "\n",
    "res, res.mean(), res.std()"
   ]
  }
 ],
 "metadata": {
  "kernelspec": {
   "display_name": "Python 3",
   "language": "python",
   "name": "python3"
  },
  "language_info": {
   "codemirror_mode": {
    "name": "ipython",
    "version": 3
   },
   "file_extension": ".py",
   "mimetype": "text/x-python",
   "name": "python",
   "nbconvert_exporter": "python",
   "pygments_lexer": "ipython3",
   "version": "3.8.8"
  }
 },
 "nbformat": 4,
 "nbformat_minor": 5
}
